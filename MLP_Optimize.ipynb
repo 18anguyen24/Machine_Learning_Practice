{
 "cells": [
  {
   "cell_type": "markdown",
   "id": "297efdbd",
   "metadata": {},
   "source": [
    "# Import Dataset and Libraries"
   ]
  },
  {
   "cell_type": "code",
   "execution_count": 3,
   "id": "95f9a5d5",
   "metadata": {},
   "outputs": [
    {
     "name": "stdout",
     "output_type": "stream",
     "text": [
      "2.10.0\n",
      "2.10.0\n"
     ]
    }
   ],
   "source": [
    "import tensorflow as tf\n",
    "from tensorflow import keras\n",
    "\n",
    "# new imports\n",
    "from keras.layers import Dense, Dropout\n",
    "\n",
    "import numpy as np\n",
    "\n",
    "print(tf.__version__)\n",
    "print(keras.__version__)"
   ]
  },
  {
   "cell_type": "markdown",
   "id": "7cdfed62",
   "metadata": {},
   "source": [
    "## Import Fashion MNIST Dataset"
   ]
  },
  {
   "cell_type": "code",
   "execution_count": 4,
   "id": "4fb1704c",
   "metadata": {},
   "outputs": [],
   "source": [
    "fashion_mnist = keras.datasets.fashion_mnist"
   ]
  },
  {
   "cell_type": "code",
   "execution_count": 5,
   "id": "6fa7e54b",
   "metadata": {},
   "outputs": [],
   "source": [
    "(X_train_full, y_train_full), (X_test, y_test) = fashion_mnist.load_data()"
   ]
  },
  {
   "cell_type": "code",
   "execution_count": 6,
   "id": "a13568cb",
   "metadata": {},
   "outputs": [
    {
     "data": {
      "text/plain": [
       "dtype('uint8')"
      ]
     },
     "execution_count": 6,
     "metadata": {},
     "output_type": "execute_result"
    }
   ],
   "source": [
    "X_train_full.dtype"
   ]
  },
  {
   "cell_type": "markdown",
   "id": "91a21509",
   "metadata": {},
   "source": [
    "## Pre-Processing"
   ]
  },
  {
   "cell_type": "code",
   "execution_count": 7,
   "id": "6fff9164",
   "metadata": {},
   "outputs": [],
   "source": [
    "#Performs element-wise division operation on the numpy array"
   ]
  },
  {
   "cell_type": "code",
   "execution_count": 8,
   "id": "0bccbc7d",
   "metadata": {},
   "outputs": [],
   "source": [
    "X_valid, X_train = X_train_full[:5000] / 255.0, X_train_full[5000:] / 255.0\n",
    "y_valid, y_train = y_train_full[:5000], y_train_full[5000:]\n",
    "X_test = X_test / 255.0"
   ]
  },
  {
   "cell_type": "code",
   "execution_count": 9,
   "id": "dca1ff3d",
   "metadata": {},
   "outputs": [],
   "source": [
    "class_names = [\"T-shirt/top\", \"Trouser\", \"Pullover\", \"Dress\", \"Coat\", \"Sandal\", \"Shirt\", \"Sneaker\", \"Bag\", \"Ankle Boot\"]"
   ]
  },
  {
   "cell_type": "markdown",
   "id": "c2c5fa8b",
   "metadata": {},
   "source": [
    "## Model Creation using Sequential API"
   ]
  },
  {
   "cell_type": "code",
   "execution_count": 100,
   "id": "a0c23d07",
   "metadata": {},
   "outputs": [],
   "source": [
    "# Sequential API\n",
    "\n",
    "# Instantiate a keras Sequential model\n",
    "model = keras.models.Sequential()\n",
    "\n",
    "# Input layer\n",
    "model.add(keras.layers.Flatten(input_shape=[28,28]))\n",
    "\n",
    "# Dense(hidden) layer\n",
    "# model.add(tf.keras.layers.Dropout(.2, input_shape=(2,)))\n",
    "model.add(Dropout(0.2))\n",
    "\n",
    "model.add(keras.layers.Dense(562, activation='sigmoid'))\n",
    "\n",
    "model.add(keras.layers.Dense(232, activation='relu'))\n",
    "\n",
    "model.add(keras.layers.Dense(90, activation='swish'))\n",
    "\n",
    "# Output layer\n",
    "model.add(keras.layers.Dense(len(class_names), activation='softmax'))"
   ]
  },
  {
   "cell_type": "code",
   "execution_count": 101,
   "id": "50736cec",
   "metadata": {},
   "outputs": [
    {
     "name": "stdout",
     "output_type": "stream",
     "text": [
      "Model: \"sequential_9\"\n",
      "_________________________________________________________________\n",
      " Layer (type)                Output Shape              Param #   \n",
      "=================================================================\n",
      " flatten_9 (Flatten)         (None, 784)               0         \n",
      "                                                                 \n",
      " dropout_9 (Dropout)         (None, 784)               0         \n",
      "                                                                 \n",
      " dense_31 (Dense)            (None, 562)               441170    \n",
      "                                                                 \n",
      " dense_32 (Dense)            (None, 232)               130616    \n",
      "                                                                 \n",
      " dense_33 (Dense)            (None, 90)                20970     \n",
      "                                                                 \n",
      " dense_34 (Dense)            (None, 10)                910       \n",
      "                                                                 \n",
      "=================================================================\n",
      "Total params: 593,666\n",
      "Trainable params: 593,666\n",
      "Non-trainable params: 0\n",
      "_________________________________________________________________\n"
     ]
    }
   ],
   "source": [
    "model.summary()"
   ]
  },
  {
   "cell_type": "markdown",
   "id": "0650b347",
   "metadata": {},
   "source": [
    "## Creating Loss function"
   ]
  },
  {
   "cell_type": "code",
   "execution_count": 102,
   "id": "b5fa8cbd",
   "metadata": {},
   "outputs": [],
   "source": [
    "model.compile(loss='sparse_categorical_crossentropy', optimizer=\"Adam\", metrics=[\"accuracy\"])"
   ]
  },
  {
   "cell_type": "code",
   "execution_count": 103,
   "id": "bf60e1a0",
   "metadata": {
    "scrolled": true
   },
   "outputs": [
    {
     "name": "stdout",
     "output_type": "stream",
     "text": [
      "Epoch 1/30\n",
      "1719/1719 [==============================] - 6s 3ms/step - loss: 0.5394 - accuracy: 0.8001 - val_loss: 0.3979 - val_accuracy: 0.8508\n",
      "Epoch 2/30\n",
      "1719/1719 [==============================] - 6s 3ms/step - loss: 0.4178 - accuracy: 0.8450 - val_loss: 0.3661 - val_accuracy: 0.8666\n",
      "Epoch 3/30\n",
      "1719/1719 [==============================] - 5s 3ms/step - loss: 0.3767 - accuracy: 0.8594 - val_loss: 0.3582 - val_accuracy: 0.8690\n",
      "Epoch 4/30\n",
      "1719/1719 [==============================] - 5s 3ms/step - loss: 0.3499 - accuracy: 0.8689 - val_loss: 0.3151 - val_accuracy: 0.8834\n",
      "Epoch 5/30\n",
      "1719/1719 [==============================] - 5s 3ms/step - loss: 0.3282 - accuracy: 0.8759 - val_loss: 0.3057 - val_accuracy: 0.8850\n",
      "Epoch 6/30\n",
      "1719/1719 [==============================] - 5s 3ms/step - loss: 0.3140 - accuracy: 0.8809 - val_loss: 0.3102 - val_accuracy: 0.8812\n",
      "Epoch 7/30\n",
      "1719/1719 [==============================] - 5s 3ms/step - loss: 0.2973 - accuracy: 0.8876 - val_loss: 0.2948 - val_accuracy: 0.8878\n",
      "Epoch 8/30\n",
      "1719/1719 [==============================] - 5s 3ms/step - loss: 0.2897 - accuracy: 0.8906 - val_loss: 0.2923 - val_accuracy: 0.8944\n",
      "Epoch 9/30\n",
      "1719/1719 [==============================] - 5s 3ms/step - loss: 0.2775 - accuracy: 0.8938 - val_loss: 0.2846 - val_accuracy: 0.9002\n",
      "Epoch 10/30\n",
      "1719/1719 [==============================] - 5s 3ms/step - loss: 0.2712 - accuracy: 0.8964 - val_loss: 0.2885 - val_accuracy: 0.8976\n",
      "Epoch 11/30\n",
      "1719/1719 [==============================] - 5s 3ms/step - loss: 0.2629 - accuracy: 0.8991 - val_loss: 0.2912 - val_accuracy: 0.8936\n",
      "Epoch 12/30\n",
      "1719/1719 [==============================] - 5s 3ms/step - loss: 0.2536 - accuracy: 0.9027 - val_loss: 0.2829 - val_accuracy: 0.9002\n",
      "Epoch 13/30\n",
      "1719/1719 [==============================] - 5s 3ms/step - loss: 0.2481 - accuracy: 0.9053 - val_loss: 0.2846 - val_accuracy: 0.9004\n",
      "Epoch 14/30\n",
      "1719/1719 [==============================] - 5s 3ms/step - loss: 0.2419 - accuracy: 0.9057 - val_loss: 0.2798 - val_accuracy: 0.9010\n",
      "Epoch 15/30\n",
      "1719/1719 [==============================] - 5s 3ms/step - loss: 0.2359 - accuracy: 0.9096 - val_loss: 0.2843 - val_accuracy: 0.8998\n",
      "Epoch 16/30\n",
      "1719/1719 [==============================] - 5s 3ms/step - loss: 0.2304 - accuracy: 0.9115 - val_loss: 0.2967 - val_accuracy: 0.8910\n",
      "Epoch 17/30\n",
      "1719/1719 [==============================] - 5s 3ms/step - loss: 0.2284 - accuracy: 0.9122 - val_loss: 0.2739 - val_accuracy: 0.8992\n",
      "Epoch 18/30\n",
      "1719/1719 [==============================] - 5s 3ms/step - loss: 0.2196 - accuracy: 0.9144 - val_loss: 0.2881 - val_accuracy: 0.9008\n",
      "Epoch 19/30\n",
      "1719/1719 [==============================] - 5s 3ms/step - loss: 0.2188 - accuracy: 0.9145 - val_loss: 0.3060 - val_accuracy: 0.8996\n",
      "Epoch 20/30\n",
      "1719/1719 [==============================] - 5s 3ms/step - loss: 0.2122 - accuracy: 0.9182 - val_loss: 0.2951 - val_accuracy: 0.8980\n",
      "Epoch 21/30\n",
      "1719/1719 [==============================] - 5s 3ms/step - loss: 0.2121 - accuracy: 0.9189 - val_loss: 0.2864 - val_accuracy: 0.9042\n",
      "Epoch 22/30\n",
      "1719/1719 [==============================] - 5s 3ms/step - loss: 0.2097 - accuracy: 0.9180 - val_loss: 0.3031 - val_accuracy: 0.8952\n",
      "Epoch 23/30\n",
      "1719/1719 [==============================] - 5s 3ms/step - loss: 0.2025 - accuracy: 0.9224 - val_loss: 0.3004 - val_accuracy: 0.9004\n",
      "Epoch 24/30\n",
      "1719/1719 [==============================] - 5s 3ms/step - loss: 0.2007 - accuracy: 0.9225 - val_loss: 0.2772 - val_accuracy: 0.9030\n",
      "Epoch 25/30\n",
      "1719/1719 [==============================] - 5s 3ms/step - loss: 0.1977 - accuracy: 0.9241 - val_loss: 0.2861 - val_accuracy: 0.9036\n",
      "Epoch 26/30\n",
      "1719/1719 [==============================] - 5s 3ms/step - loss: 0.1957 - accuracy: 0.9244 - val_loss: 0.2992 - val_accuracy: 0.8982\n",
      "Epoch 27/30\n",
      "1719/1719 [==============================] - 5s 3ms/step - loss: 0.1921 - accuracy: 0.9260 - val_loss: 0.2962 - val_accuracy: 0.9000\n",
      "Epoch 28/30\n",
      "1719/1719 [==============================] - 5s 3ms/step - loss: 0.1912 - accuracy: 0.9258 - val_loss: 0.2956 - val_accuracy: 0.9032\n",
      "Epoch 29/30\n",
      "1719/1719 [==============================] - 5s 3ms/step - loss: 0.1864 - accuracy: 0.9278 - val_loss: 0.2928 - val_accuracy: 0.9002\n",
      "Epoch 30/30\n",
      "1719/1719 [==============================] - 5s 3ms/step - loss: 0.1879 - accuracy: 0.9270 - val_loss: 0.3084 - val_accuracy: 0.9030\n"
     ]
    }
   ],
   "source": [
    "history = model.fit(X_train, y_train, epochs=30, validation_data=(X_valid, y_valid))"
   ]
  },
  {
   "cell_type": "code",
   "execution_count": 104,
   "id": "2478e129",
   "metadata": {
    "scrolled": true
   },
   "outputs": [
    {
     "data": {
      "image/png": "[encoded data removed]",
      "text/plain": [
       "<Figure size 576x360 with 1 Axes>"
      ]
     },
     "metadata": {
      "needs_background": "light"
     },
     "output_type": "display_data"
    }
   ],
   "source": [
    "import matplotlib.pyplot as plt\n",
    "import pandas as pd\n",
    "\n",
    "pd.DataFrame(history.history).plot(figsize=(8,5))\n",
    "plt.grid(True)\n",
    "plt.gca().set_ylim(0,1) # sets vertical range to [0-1]\n",
    "plt.show()"
   ]
  },
  {
   "cell_type": "markdown",
   "id": "fe0e87a6",
   "metadata": {},
   "source": [
    "## Evaluate on the Test set"
   ]
  },
  {
   "cell_type": "code",
   "execution_count": 105,
   "id": "c3132cf9",
   "metadata": {},
   "outputs": [
    {
     "name": "stdout",
     "output_type": "stream",
     "text": [
      "313/313 [==============================] - 0s 1ms/step - loss: 0.3323 - accuracy: 0.8955\n"
     ]
    },
    {
     "data": {
      "text/plain": [
       "[0.3322638273239136, 0.8955000042915344]"
      ]
     },
     "execution_count": 105,
     "metadata": {},
     "output_type": "execute_result"
    }
   ],
   "source": [
    "model.evaluate(X_test, y_test)"
   ]
  },
  {
   "cell_type": "markdown",
   "id": "8fe4c664",
   "metadata": {},
   "source": [
    "## Making Predictions"
   ]
  },
  {
   "cell_type": "code",
   "execution_count": 106,
   "id": "d78e1152",
   "metadata": {},
   "outputs": [
    {
     "name": "stdout",
     "output_type": "stream",
     "text": [
      "1/1 [==============================] - 0s 56ms/step\n"
     ]
    },
    {
     "data": {
      "text/plain": [
       "array([[0.   , 0.   , 0.   , 0.   , 0.   , 0.001, 0.   , 0.006, 0.   ,\n",
       "        0.993],\n",
       "       [0.   , 0.   , 0.991, 0.   , 0.007, 0.   , 0.003, 0.   , 0.   ,\n",
       "        0.   ],\n",
       "       [0.   , 1.   , 0.   , 0.   , 0.   , 0.   , 0.   , 0.   , 0.   ,\n",
       "        0.   ]], dtype=float32)"
      ]
     },
     "execution_count": 106,
     "metadata": {},
     "output_type": "execute_result"
    }
   ],
   "source": [
    "X_new = X_test[:3]\n",
    "y_proba = model.predict(X_new)\n",
    "y_proba.round(3)"
   ]
  },
  {
   "cell_type": "code",
   "execution_count": 107,
   "id": "1070f121",
   "metadata": {},
   "outputs": [
    {
     "name": "stdout",
     "output_type": "stream",
     "text": [
      "1/1 [==============================] - 0s 14ms/step\n"
     ]
    },
    {
     "data": {
      "text/plain": [
       "array(['Ankle Boot', 'Pullover', 'Trouser'], dtype='<U11')"
      ]
     },
     "execution_count": 107,
     "metadata": {},
     "output_type": "execute_result"
    }
   ],
   "source": [
    "# Predicted\n",
    "y_pred = np.argmax(model.predict(X_new), axis=1)\n",
    "np.array(class_names)[y_pred]"
   ]
  },
  {
   "cell_type": "code",
   "execution_count": 108,
   "id": "fefa87e2",
   "metadata": {},
   "outputs": [
    {
     "data": {
      "text/plain": [
       "array(['Ankle Boot', 'Pullover', 'Trouser'], dtype='<U11')"
      ]
     },
     "execution_count": 108,
     "metadata": {},
     "output_type": "execute_result"
    }
   ],
   "source": [
    "# Actual\n",
    "Y_new = y_test[:3]\n",
    "np.array(class_names)[Y_new]"
   ]
  },
  {
   "cell_type": "markdown",
   "id": "c6d9443d",
   "metadata": {},
   "source": [
    "## Hyperparameter Tuning"
   ]
  },
  {
   "cell_type": "code",
   "execution_count": 72,
   "id": "e4509224",
   "metadata": {},
   "outputs": [],
   "source": [
    "# do this (mess around with the Dense() function)"
   ]
  },
  {
   "cell_type": "code",
   "execution_count": null,
   "id": "9d766eee",
   "metadata": {},
   "outputs": [],
   "source": []
  },
  {
   "cell_type": "code",
   "execution_count": null,
   "id": "e8ad3cf0",
   "metadata": {},
   "outputs": [],
   "source": []
  }
 ],
 "metadata": {
  "kernelspec": {
   "display_name": "Python 3 (ipykernel)",
   "language": "python",
   "name": "python3"
  },
  "language_info": {
   "codemirror_mode": {
    "name": "ipython",
    "version": 3
   },
   "file_extension": ".py",
   "mimetype": "text/x-python",
   "name": "python",
   "nbconvert_exporter": "python",
   "pygments_lexer": "ipython3",
   "version": "3.9.12"
  }
 },
 "nbformat": 4,
 "nbformat_minor": 5
}
